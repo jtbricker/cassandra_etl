{
 "cells": [
  {
   "cell_type": "markdown",
   "metadata": {},
   "source": [
    "# Part I. ETL Pipeline for Pre-Processing the Files"
   ]
  },
  {
   "cell_type": "markdown",
   "metadata": {},
   "source": [
    "## PLEASE RUN THE FOLLOWING CODE FOR PRE-PROCESSING THE FILES"
   ]
  },
  {
   "cell_type": "markdown",
   "metadata": {},
   "source": [
    "#### Import Python packages "
   ]
  },
  {
   "cell_type": "code",
   "execution_count": 13,
   "metadata": {},
   "outputs": [],
   "source": [
    "# Import Python packages \n",
    "import pandas as pd\n",
    "import cassandra\n",
    "import re\n",
    "import os\n",
    "import glob\n",
    "import numpy as np\n",
    "import json\n",
    "import csv"
   ]
  },
  {
   "cell_type": "markdown",
   "metadata": {},
   "source": [
    "#### Creating list of filepaths to process original event csv data files"
   ]
  },
  {
   "cell_type": "code",
   "execution_count": 17,
   "metadata": {},
   "outputs": [
    {
     "name": "stdout",
     "output_type": "stream",
     "text": [
      "C:\\src\\personal\\cassandra_etl\n"
     ]
    }
   ],
   "source": [
    "# checking your current working directory\n",
    "print(os.getcwd())\n",
    "\n",
    "# Get your current folder and subfolder event data\n",
    "filepath = os.getcwd() + '/event_data'\n",
    "\n",
    "# Create a for loop to create a list of files and collect each filepath\n",
    "for root, dirs, files in os.walk(filepath):\n",
    "    \n",
    "# join the file path and roots with the subdirectories using glob\n",
    "    file_path_list = glob.glob(os.path.join(root,'*'))\n",
    "    #print(file_path_list)"
   ]
  },
  {
   "cell_type": "markdown",
   "metadata": {},
   "source": [
    "#### Processing the files to create the data file csv that will be used for Apache Cassandra tables"
   ]
  },
  {
   "cell_type": "code",
   "execution_count": 24,
   "metadata": {},
   "outputs": [
    {
     "name": "stdout",
     "output_type": "stream",
     "text": [
      "Found 8056 rows of data.\n",
      "Writing data to event_datafile_new.csv\n",
      "Done writing data to new file.\n"
     ]
    }
   ],
   "source": [
    "# initiating an empty list of rows that will be generated from each file\n",
    "full_data_rows_list = [] \n",
    "    \n",
    "# for every filepath in the file path list \n",
    "for f in file_path_list:\n",
    "\n",
    "# reading csv file \n",
    "    with open(f, 'r', encoding = 'utf8', newline='') as csvfile: \n",
    "        # creating a csv reader object \n",
    "        csvreader = csv.reader(csvfile) \n",
    "        next(csvreader)\n",
    "        \n",
    " # extracting each data row one by one and append it        \n",
    "        for line in csvreader:\n",
    "            #print(line)\n",
    "            full_data_rows_list.append(line) \n",
    "            \n",
    "print(\"Found %s rows of data.\" %len(full_data_rows_list))\n",
    "\n",
    "# creating a smaller event data csv file called event_datafile_full csv that will be used to insert data into the \\\n",
    "# Apache Cassandra tables\n",
    "csv.register_dialect('myDialect', quoting=csv.QUOTE_ALL, skipinitialspace=True)\n",
    "\n",
    "new_filename = 'event_datafile_new.csv'\n",
    "print('Writing data to %s' %new_filename)\n",
    "with open(new_filename, 'w', encoding = 'utf8', newline='') as f:\n",
    "    writer = csv.writer(f, dialect='myDialect')\n",
    "    writer.writerow(['artist','firstName','gender','itemInSession','lastName','length',\\\n",
    "                'level','location','sessionId','song','userId'])\n",
    "    for row in full_data_rows_list:\n",
    "        if (row[0] == ''):\n",
    "            continue\n",
    "        writer.writerow((row[0], row[2], row[3], row[4], row[5], row[6], row[7], row[8], row[12], row[13], row[16]))\n",
    "print('Done writing data to new file.')"
   ]
  },
  {
   "cell_type": "code",
   "execution_count": 22,
   "metadata": {},
   "outputs": [
    {
     "name": "stdout",
     "output_type": "stream",
     "text": [
      "6821\n"
     ]
    }
   ],
   "source": [
    "# check the number of rows in your csv file\n",
    "with open('event_datafile_new.csv', 'r', encoding = 'utf8') as f:\n",
    "    print(\"New data file consum(1 for line in f))"
   ]
  },
  {
   "cell_type": "markdown",
   "metadata": {},
   "source": [
    "# Part II. Complete the Apache Cassandra coding portion of your project. \n",
    "\n",
    "## Now you are ready to work with the CSV file titled <font color=red>event_datafile_new.csv</font>, located within the Workspace directory.  The event_datafile_new.csv contains the following columns: \n",
    "- artist \n",
    "- firstName of user\n",
    "- gender of user\n",
    "- item number in session\n",
    "- last name of user\n",
    "- length of the song\n",
    "- level (paid or free song)\n",
    "- location of the user\n",
    "- sessionId\n",
    "- song title\n",
    "- userId\n",
    "\n",
    "The image below is a screenshot of what the denormalized data should appear like in the <font color=red>**event_datafile_new.csv**</font> after the code above is run:<br>\n",
    "\n",
    "<img src=\"images/image_event_datafile_new.jpg\">"
   ]
  },
  {
   "cell_type": "markdown",
   "metadata": {},
   "source": [
    "## Begin writing your Apache Cassandra code in the cells below"
   ]
  },
  {
   "cell_type": "markdown",
   "metadata": {},
   "source": [
    "#### Creating a Cluster"
   ]
  },
  {
   "cell_type": "code",
   "execution_count": 25,
   "metadata": {},
   "outputs": [],
   "source": [
    "# This should make a connection to a Cassandra instance your local machine \n",
    "# (127.0.0.1)\n",
    "\n",
    "from cassandra.cluster import Cluster\n",
    "cluster = Cluster()\n",
    "\n",
    "# To establish connection and begin executing queries, need a session\n",
    "session = cluster.connect()"
   ]
  },
  {
   "cell_type": "markdown",
   "metadata": {},
   "source": [
    "#### Create Keyspace"
   ]
  },
  {
   "cell_type": "code",
   "execution_count": 38,
   "metadata": {},
   "outputs": [
    {
     "data": {
      "text/plain": [
       "<cassandra.cluster.ResultSet at 0x1584869c9e8>"
      ]
     },
     "execution_count": 38,
     "metadata": {},
     "output_type": "execute_result"
    }
   ],
   "source": [
    "session.execute(\"CREATE KEYSPACE IF NOT EXISTS sparkify WITH REPLICATION = { 'class' : 'SimpleStrategy', 'replication_factor' : 1 };\")"
   ]
  },
  {
   "cell_type": "markdown",
   "metadata": {},
   "source": [
    "#### Set Keyspace"
   ]
  },
  {
   "cell_type": "code",
   "execution_count": 41,
   "metadata": {},
   "outputs": [
    {
     "data": {
      "text/plain": [
       "<cassandra.cluster.ResultSet at 0x158486964a8>"
      ]
     },
     "execution_count": 41,
     "metadata": {},
     "output_type": "execute_result"
    }
   ],
   "source": [
    "session.execute(\"USE sparkify;\")"
   ]
  },
  {
   "cell_type": "markdown",
   "metadata": {},
   "source": [
    "### Helper Methods\n",
    "A few methods to help make data insertion easier"
   ]
  },
  {
   "cell_type": "code",
   "execution_count": 70,
   "metadata": {
    "scrolled": false
   },
   "outputs": [],
   "source": [
    "DATA_FILE = 'event_datafile_new.csv'\n",
    "\n",
    "def get_data_by_key(row, key):\n",
    "    \"\"\" Helper method which maps column keywords to the value in the \n",
    "        data row which has been parse to the appropriate data type \n",
    "        \n",
    "        Arguments:\n",
    "            row {str[]} -- [represents a single row from event_datafile_new.csv, split by column]\n",
    "            key {str} -- [the column which you want to parse]\n",
    "    \"\"\"\n",
    "    \n",
    "    map = {\n",
    "        'artist': row[0],\n",
    "        'firstName': row[1],\n",
    "        'gender': row[2],\n",
    "        'itemInSession': int(row[3]),\n",
    "        'lastName': row[4],\n",
    "        'length': float(row[5]),\n",
    "        'level': row[6],\n",
    "        'location': row[7],\n",
    "        'sessionId': int(row[8]),\n",
    "        'song': row[9],\n",
    "        'userId': int(row[10])\n",
    "    }\n",
    "    return map[key]\n",
    "\n",
    "def insert_data_into_table(insertStatement, dataToBeInserted):\n",
    "    \"\"\" Helper method which executes the provided CQL statement, passing in the\n",
    "        values represented by the keys passed in\n",
    "        \n",
    "        Arguments:\n",
    "            insertStatement {str} -- [CQL insert statement where each data to be inserted has been replaced with %s]\n",
    "            dataToBeInserted {str[]} -- [array of keys (in order) to be inserted from each row in event_datafile_new.csv]\n",
    "    \"\"\"\n",
    "\n",
    "    with open(DATA_FILE, encoding = 'utf8') as f:\n",
    "        csvreader = csv.reader(f)\n",
    "        next(csvreader) # skip header\n",
    "        for line in csvreader:\n",
    "            session.execute(insertStatement, (get_data_by_key(line, key) for key in dataToBeInserted))"
   ]
  },
  {
   "cell_type": "markdown",
   "metadata": {},
   "source": [
    "## Create queries to ask the following three questions of the data\n",
    "\n",
    "### 1. Find the artist, song title and song's length in the music app history that was heard during sessionId = 338, and itemInSession  = 4    "
   ]
  },
  {
   "cell_type": "code",
   "execution_count": 73,
   "metadata": {},
   "outputs": [
    {
     "name": "stdout",
     "output_type": "stream",
     "text": [
      "Faithless Music Matters (Mark Knight Dub) 495.3073\n"
     ]
    }
   ],
   "source": [
    "song_sessions_table_drop = \"DROP TABLE IF EXISTS song_sessions\"\n",
    "\n",
    "song_sessions_table_create = \"\"\"\n",
    "CREATE TABLE IF NOT EXISTS song_sessions(\n",
    "    session_id INT, \n",
    "    item_in_session INT,\n",
    "    artist VARCHAR,\n",
    "    song_title VARCHAR,\n",
    "    length DECIMAL,\n",
    "    PRIMARY KEY (session_id, item_in_session)\n",
    ");\n",
    "\"\"\"\n",
    "\n",
    "song_sessions_insert = \"\"\"\n",
    "INSERT INTO song_sessions (session_id, item_in_session, artist, song_title, length)\n",
    "    VALUES (%s, %s, %s, %s, %s)\n",
    "\"\"\"\n",
    "\n",
    "song_sessions_select = \"\"\"\n",
    "SELECT artist, song_title, length\n",
    "FROM song_sessions\n",
    "WHERE session_id = 338\n",
    "AND item_in_session = 4\n",
    "\"\"\"\n",
    "\n",
    "# Drop and Create Table\n",
    "session.execute(song_sessions_table_drop)\n",
    "session.execute(song_sessions_table_create)\n",
    "\n",
    "# Insert Dat into Table\n",
    "insert_data_into_table(song_sessions_insert, ['sessionId', 'itemInSession', 'artist', 'song', 'length'])\n",
    "\n",
    "# Query table to answer question\n",
    "rows = session.execute(song_sessions_select)\n",
    "for row in rows:\n",
    "    print(row.artist, row.song_title, row.length)"
   ]
  },
  {
   "cell_type": "markdown",
   "metadata": {},
   "source": [
    "### 2. Find only the following: name of artist, song (sorted by itemInSession) and user (first and last name) for userid = 10, sessionid = 182"
   ]
  },
  {
   "cell_type": "code",
   "execution_count": 87,
   "metadata": {},
   "outputs": [
    {
     "name": "stdout",
     "output_type": "stream",
     "text": [
      "    Down To The Bone\t                                     Keep On Keepin' On\t    Sylvie\t      Cruz\n",
      "        Three Drives\t                                            Greece 2000\t    Sylvie\t      Cruz\n",
      "   Sebastien Tellier\t                                              Kilometer\t    Sylvie\t      Cruz\n",
      "       Lonnie Gordon\t   Catch You Baby (Steve Pitron & Max Sanna Radio Edit)\t    Sylvie\t      Cruz\n"
     ]
    }
   ],
   "source": [
    "user_sessions_table_drop = \"DROP TABLE IF EXISTS user_sessions\"\n",
    "\n",
    "user_sessions_table_create = \"\"\"\n",
    "CREATE TABLE IF NOT EXISTS user_sessions(\n",
    "    user_id INT,\n",
    "    session_id INT, \n",
    "    item_in_session INT,\n",
    "    artist VARCHAR,\n",
    "    song_title VARCHAR,\n",
    "    first_name VARCHAR,\n",
    "    last_name VARCHAR,\n",
    "    PRIMARY KEY (user_id, session_id, item_in_session)\n",
    ");\n",
    "\"\"\"\n",
    "\n",
    "user_sessions_insert = \"\"\"\n",
    "INSERT INTO user_sessions (user_id, session_id, item_in_session, artist, song_title, first_name, last_name)\n",
    "    VALUES (%s, %s, %s, %s, %s, %s, %s)\n",
    "\"\"\"\n",
    "\n",
    "user_sessions_select = \"\"\"\n",
    "SELECT artist, song_title, first_name, last_name\n",
    "FROM user_sessions\n",
    "WHERE user_id = 10\n",
    "AND session_id = 182 \n",
    "ORDER BY session_id, item_in_session\n",
    "\"\"\"\n",
    "\n",
    "# Drop and Create Table\n",
    "# session.execute(user_sessions_table_drop)\n",
    "# session.execute(user_sessions_table_create)\n",
    "\n",
    "# Insert Dat into Table\n",
    "# insert_data_into_table(user_sessions_insert, ['userId', 'sessionId', 'itemInSession', 'artist', 'song', 'firstName', 'lastName'])\n",
    "\n",
    "# Query table to answer question\n",
    "rows = session.execute(user_sessions_select)\n",
    "for row in rows:\n",
    "    print(\"%20s\\t%55s\\t%10s\\t%10s\" %(row.artist, row.song_title, row.first_name, row.last_name))"
   ]
  },
  {
   "cell_type": "markdown",
   "metadata": {},
   "source": [
    "### 3. Find every user name (first and last) in music app history who listened to the song 'All Hands Against His Own'"
   ]
  },
  {
   "cell_type": "code",
   "execution_count": null,
   "metadata": {},
   "outputs": [],
   "source": [
    "## TO-DO: Query 3: Give me every user name (first and last) in my music app history who listened to the song 'All Hands Against His Own'\n",
    "\n",
    "\n",
    "                    "
   ]
  },
  {
   "cell_type": "markdown",
   "metadata": {},
   "source": [
    "### Drop the tables before closing out the sessions"
   ]
  },
  {
   "cell_type": "code",
   "execution_count": null,
   "metadata": {},
   "outputs": [],
   "source": [
    "drop_statements = [song_session_table_drop, user_sessions_table_drop]\n",
    "for drop in drop_statements:\n",
    "    session.execute(drop)"
   ]
  },
  {
   "cell_type": "markdown",
   "metadata": {},
   "source": [
    "### Close the session and cluster connection¶"
   ]
  },
  {
   "cell_type": "code",
   "execution_count": null,
   "metadata": {},
   "outputs": [],
   "source": [
    "session.shutdown()\n",
    "cluster.shutdown()"
   ]
  }
 ],
 "metadata": {
  "kernelspec": {
   "display_name": "Python 3",
   "language": "python",
   "name": "python3"
  },
  "language_info": {
   "codemirror_mode": {
    "name": "ipython",
    "version": 3
   },
   "file_extension": ".py",
   "mimetype": "text/x-python",
   "name": "python",
   "nbconvert_exporter": "python",
   "pygments_lexer": "ipython3",
   "version": "3.6.3"
  }
 },
 "nbformat": 4,
 "nbformat_minor": 2
}
