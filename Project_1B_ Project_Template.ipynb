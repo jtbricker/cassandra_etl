{
 "cells": [
  {
   "cell_type": "markdown",
   "metadata": {},
   "source": [
    "# Part I. ETL Pipeline for Pre-Processing the Files"
   ]
  },
  {
   "cell_type": "markdown",
   "metadata": {},
   "source": [
    "This section reads in the individual files in the `event_data` folder and creates a single `event_data_new.csv` file that will be used to populate our Apache Cassandra tables."
   ]
  },
  {
   "cell_type": "markdown",
   "metadata": {},
   "source": [
    "#### Import Python packages "
   ]
  },
  {
   "cell_type": "code",
   "execution_count": 42,
   "metadata": {},
   "outputs": [],
   "source": [
    "import pandas as pd\n",
    "from cassandra.cluster import Cluster\n",
    "import re\n",
    "import os\n",
    "import glob\n",
    "import numpy as np\n",
    "import json\n",
    "import csv"
   ]
  },
  {
   "cell_type": "markdown",
   "metadata": {},
   "source": [
    "#### Creating list of filepaths to process original event csv data files"
   ]
  },
  {
   "cell_type": "code",
   "execution_count": 43,
   "metadata": {},
   "outputs": [
    {
     "name": "stdout",
     "output_type": "stream",
     "text": [
      "Current working directory:  C:\\src\\cassandra_etl\n"
     ]
    }
   ],
   "source": [
    "curr_dir = os.getcwd()\n",
    "print('Current working directory: ', curr_dir)\n",
    "\n",
    "# Get absolute path to event data folder\n",
    "filepath = curr_dir + '/event_data'\n",
    "\n",
    "# Walk the event_data/ folder and collect each filepath\n",
    "for root, dirs, files in os.walk(filepath):\n",
    "    file_path_list = glob.glob(os.path.join(root,'*'))"
   ]
  },
  {
   "cell_type": "markdown",
   "metadata": {},
   "source": [
    "#### Processing the files to create the data file csv that will be used for Apache Cassandra tables"
   ]
  },
  {
   "cell_type": "code",
   "execution_count": 45,
   "metadata": {},
   "outputs": [
    {
     "name": "stdout",
     "output_type": "stream",
     "text": [
      "Found 8056 rows of data.\n",
      "Writing data to event_datafile_new.csv\n",
      "Done writing data to new file.\n"
     ]
    }
   ],
   "source": [
    "full_data_rows_list = [] \n",
    "    \n",
    "for f in file_path_list:\n",
    "    # read csv file \n",
    "    with open(f, 'r', encoding = 'utf8', newline='') as csvfile: \n",
    "        csvreader = csv.reader(csvfile) \n",
    "        next(csvreader)\n",
    "        \n",
    "        # extract each data row one by one and append it        \n",
    "        for line in csvreader:\n",
    "            full_data_rows_list.append(line) \n",
    "            \n",
    "print(\"Found %s rows of data.\" %len(full_data_rows_list))\n",
    "\n",
    "# create a single event data csv filethat will be used to insert data into Apache Cassandra tables\n",
    "csv.register_dialect('myDialect', quoting=csv.QUOTE_ALL, skipinitialspace=True)\n",
    "\n",
    "new_filename = 'event_datafile_new.csv'\n",
    "print('Writing data to %s' %new_filename)\n",
    "\n",
    "with open(new_filename, 'w', encoding = 'utf8', newline='') as f:\n",
    "    writer = csv.writer(f, dialect='myDialect')\n",
    "    writer.writerow(['artist','firstName','gender','itemInSession','lastName','length',\\\n",
    "                'level','location','sessionId','song','userId'])\n",
    "    for row in full_data_rows_list:\n",
    "        if (row[0] == ''):\n",
    "            continue\n",
    "        writer.writerow((row[0], row[2], row[3], row[4], row[5], row[6], row[7], row[8], row[12], row[13], row[16]))\n",
    "\n",
    "print('Done writing data to new file.')"
   ]
  },
  {
   "cell_type": "code",
   "execution_count": 47,
   "metadata": {},
   "outputs": [
    {
     "name": "stdout",
     "output_type": "stream",
     "text": [
      "New data file contains 6821 rows\n"
     ]
    }
   ],
   "source": [
    "# get the number of rows in new csv file\n",
    "with open('event_datafile_new.csv', 'r', encoding = 'utf8') as f:\n",
    "    num_rows = sum(1 for line in f)\n",
    "    print(\"New data file contains %s rows\" %num_rows)"
   ]
  },
  {
   "cell_type": "markdown",
   "metadata": {},
   "source": [
    "# Part II. Load Data Into Tables and Query the Tables\n",
    "\n",
    "The event_datafile_new.csv contains the following columns: \n",
    "- artist \n",
    "- firstName of user\n",
    "- gender of user\n",
    "- item number in session\n",
    "- last name of user\n",
    "- length of the song\n",
    "- level (paid or free song)\n",
    "- location of the user\n",
    "- sessionId\n",
    "- song title\n",
    "- userId\n",
    "\n",
    "The image below is a screenshot of what the denormalized data looks like:\n",
    "\n",
    "<img src=\"images/image_event_datafile_new.jpg\">"
   ]
  },
  {
   "cell_type": "markdown",
   "metadata": {},
   "source": [
    "#### Create cluster and establish a connection"
   ]
  },
  {
   "cell_type": "code",
   "execution_count": 48,
   "metadata": {},
   "outputs": [],
   "source": [
    "# This should make a connection to the Cassandra server\n",
    "cluster = Cluster()\n",
    "\n",
    "# To establish connection and begin executing queries, need a session\n",
    "session = cluster.connect()"
   ]
  },
  {
   "cell_type": "markdown",
   "metadata": {},
   "source": [
    "#### Create Keyspace"
   ]
  },
  {
   "cell_type": "code",
   "execution_count": 49,
   "metadata": {},
   "outputs": [
    {
     "data": {
      "text/plain": [
       "<cassandra.cluster.ResultSet at 0x1c37f7c6b00>"
      ]
     },
     "execution_count": 49,
     "metadata": {},
     "output_type": "execute_result"
    }
   ],
   "source": [
    "session.execute(\"CREATE KEYSPACE IF NOT EXISTS sparkify WITH REPLICATION = { 'class' : 'SimpleStrategy', 'replication_factor' : 1 };\")"
   ]
  },
  {
   "cell_type": "markdown",
   "metadata": {},
   "source": [
    "#### Set Keyspace"
   ]
  },
  {
   "cell_type": "code",
   "execution_count": 50,
   "metadata": {},
   "outputs": [
    {
     "data": {
      "text/plain": [
       "<cassandra.cluster.ResultSet at 0x1c37ee3b4a8>"
      ]
     },
     "execution_count": 50,
     "metadata": {},
     "output_type": "execute_result"
    }
   ],
   "source": [
    "session.execute(\"USE sparkify;\")"
   ]
  },
  {
   "cell_type": "markdown",
   "metadata": {},
   "source": [
    "### Helper Methods\n",
    "A few methods to help make data insertion easier"
   ]
  },
  {
   "cell_type": "code",
   "execution_count": 51,
   "metadata": {
    "scrolled": false
   },
   "outputs": [],
   "source": [
    "from IPython.display import display, clear_output\n",
    "\n",
    "DATA_FILE = 'event_datafile_new.csv'\n",
    "\n",
    "def get_data_by_key(row, key):\n",
    "    \"\"\" Helper method which maps column keywords to the value in the \n",
    "        data row which has been parse to the appropriate data type \n",
    "        \n",
    "        Arguments:\n",
    "            row {str[]} -- [represents a single row from event_datafile_new.csv, split by column]\n",
    "            key {str} -- [the column which you want to parse]\n",
    "    \"\"\"\n",
    "    \n",
    "    map = {\n",
    "        'artist': row[0],\n",
    "        'firstName': row[1],\n",
    "        'gender': row[2],\n",
    "        'itemInSession': int(row[3]),\n",
    "        'lastName': row[4],\n",
    "        'length': float(row[5]),\n",
    "        'level': row[6],\n",
    "        'location': row[7],\n",
    "        'sessionId': int(row[8]),\n",
    "        'song': row[9],\n",
    "        'userId': int(row[10])\n",
    "    }\n",
    "    return map[key]\n",
    "\n",
    "def insert_data_into_table(insertStatement, dataToBeInserted):\n",
    "    \"\"\" Helper method which executes the provided CQL statement, passing in the\n",
    "        values represented by the keys passed in\n",
    "        \n",
    "        Arguments:\n",
    "            insertStatement {str} -- [CQL insert statement where each data to be inserted has been replaced with %s]\n",
    "            dataToBeInserted {str[]} -- [array of keys (in order) to be inserted from each row in event_datafile_new.csv]\n",
    "    \"\"\"\n",
    "\n",
    "    with open(DATA_FILE, encoding = 'utf8') as f:\n",
    "        csvreader = csv.reader(f)\n",
    "        next(csvreader) # skip header\n",
    "        for i, line in enumerate(csvreader):\n",
    "            clear_output(wait=True)\n",
    "            display('{}/{} rows processed.'.format(i, num_rows))\n",
    "            session.execute(insertStatement, (get_data_by_key(line, key) for key in dataToBeInserted))\n",
    "        clear_output(wait=True)\n",
    "        display('All rows processed.')"
   ]
  },
  {
   "cell_type": "markdown",
   "metadata": {},
   "source": [
    "## Create tables/queries to ask the following three questions of the data\n",
    "\n",
    "### 1. Find the artist, song title and song's length in the music app history that was heard during sessionId = 338, and itemInSession  = 4    "
   ]
  },
  {
   "cell_type": "code",
   "execution_count": 52,
   "metadata": {},
   "outputs": [],
   "source": [
    "song_sessions_table_drop = \"DROP TABLE IF EXISTS song_sessions\"\n",
    "\n",
    "song_sessions_table_create = \"\"\"\n",
    "CREATE TABLE IF NOT EXISTS song_sessions(\n",
    "    session_id INT, \n",
    "    item_in_session INT,\n",
    "    artist VARCHAR,\n",
    "    song_title VARCHAR,\n",
    "    length DECIMAL,\n",
    "    PRIMARY KEY (session_id, item_in_session)\n",
    ");\n",
    "\"\"\"\n",
    "\n",
    "song_sessions_insert = \"\"\"\n",
    "INSERT INTO song_sessions (session_id, item_in_session, artist, song_title, length)\n",
    "    VALUES (%s, %s, %s, %s, %s)\n",
    "\"\"\"\n",
    "\n",
    "song_sessions_select = \"\"\"\n",
    "SELECT artist, song_title, length\n",
    "FROM song_sessions\n",
    "WHERE session_id = 338\n",
    "AND item_in_session = 4\n",
    "\"\"\""
   ]
  },
  {
   "cell_type": "code",
   "execution_count": 53,
   "metadata": {},
   "outputs": [
    {
     "data": {
      "text/plain": [
       "<cassandra.cluster.ResultSet at 0x1c37f7c1860>"
      ]
     },
     "execution_count": 53,
     "metadata": {},
     "output_type": "execute_result"
    }
   ],
   "source": [
    "# Drop and Create Table\n",
    "session.execute(song_sessions_table_drop)\n",
    "session.execute(song_sessions_table_create)"
   ]
  },
  {
   "cell_type": "code",
   "execution_count": 54,
   "metadata": {},
   "outputs": [
    {
     "data": {
      "text/plain": [
       "'All rows processed.'"
      ]
     },
     "metadata": {},
     "output_type": "display_data"
    }
   ],
   "source": [
    "# Insert Data into Table\n",
    "insert_data_into_table(song_sessions_insert, ['sessionId', 'itemInSession', 'artist', 'song', 'length'])"
   ]
  },
  {
   "cell_type": "code",
   "execution_count": 55,
   "metadata": {},
   "outputs": [
    {
     "name": "stdout",
     "output_type": "stream",
     "text": [
      "Faithless Music Matters (Mark Knight Dub) 495.3073\n"
     ]
    }
   ],
   "source": [
    "# Query table to answer question\n",
    "rows = session.execute(song_sessions_select)\n",
    "for row in rows:\n",
    "    print(row.artist, row.song_title, row.length)"
   ]
  },
  {
   "cell_type": "markdown",
   "metadata": {},
   "source": [
    "### 2. Find only the following: name of artist, song (sorted by itemInSession) and user (first and last name) for userid = 10, sessionid = 182"
   ]
  },
  {
   "cell_type": "code",
   "execution_count": 56,
   "metadata": {},
   "outputs": [],
   "source": [
    "user_sessions_table_drop = \"DROP TABLE IF EXISTS user_sessions\"\n",
    "\n",
    "user_sessions_table_create = \"\"\"\n",
    "CREATE TABLE IF NOT EXISTS user_sessions(\n",
    "    user_id INT,\n",
    "    session_id INT, \n",
    "    item_in_session INT,\n",
    "    artist VARCHAR,\n",
    "    song_title VARCHAR,\n",
    "    first_name VARCHAR,\n",
    "    last_name VARCHAR,\n",
    "    PRIMARY KEY (user_id, session_id, item_in_session)\n",
    ");\n",
    "\"\"\"\n",
    "\n",
    "user_sessions_insert = \"\"\"\n",
    "INSERT INTO user_sessions (user_id, session_id, item_in_session, artist, song_title, first_name, last_name)\n",
    "    VALUES (%s, %s, %s, %s, %s, %s, %s)\n",
    "\"\"\"\n",
    "\n",
    "user_sessions_select = \"\"\"\n",
    "SELECT artist, song_title, first_name, last_name\n",
    "FROM user_sessions\n",
    "WHERE user_id = 10\n",
    "AND session_id = 182 \n",
    "ORDER BY session_id, item_in_session\n",
    "\"\"\""
   ]
  },
  {
   "cell_type": "code",
   "execution_count": 57,
   "metadata": {},
   "outputs": [
    {
     "data": {
      "text/plain": [
       "<cassandra.cluster.ResultSet at 0x1c37ec708d0>"
      ]
     },
     "execution_count": 57,
     "metadata": {},
     "output_type": "execute_result"
    }
   ],
   "source": [
    "# Drop and Create Table\n",
    "session.execute(user_sessions_table_drop)\n",
    "session.execute(user_sessions_table_create)"
   ]
  },
  {
   "cell_type": "code",
   "execution_count": 58,
   "metadata": {},
   "outputs": [
    {
     "data": {
      "text/plain": [
       "'All rows processed.'"
      ]
     },
     "metadata": {},
     "output_type": "display_data"
    }
   ],
   "source": [
    "# Insert Data into Table\n",
    "insert_data_into_table(user_sessions_insert, ['userId', 'sessionId', 'itemInSession', 'artist', 'song', 'firstName', 'lastName'])"
   ]
  },
  {
   "cell_type": "code",
   "execution_count": 59,
   "metadata": {},
   "outputs": [
    {
     "name": "stdout",
     "output_type": "stream",
     "text": [
      "    Down To The Bone\t                                     Keep On Keepin' On\t    Sylvie\t      Cruz\n",
      "        Three Drives\t                                            Greece 2000\t    Sylvie\t      Cruz\n",
      "   Sebastien Tellier\t                                              Kilometer\t    Sylvie\t      Cruz\n",
      "       Lonnie Gordon\t   Catch You Baby (Steve Pitron & Max Sanna Radio Edit)\t    Sylvie\t      Cruz\n"
     ]
    }
   ],
   "source": [
    "# Query table to answer question\n",
    "rows = session.execute(user_sessions_select)\n",
    "for row in rows:\n",
    "    print(\"%20s\\t%55s\\t%10s\\t%10s\" %(row.artist, row.song_title, row.first_name, row.last_name))"
   ]
  },
  {
   "cell_type": "markdown",
   "metadata": {},
   "source": [
    "### 3. Find every user name (first and last) in music app history who listened to the song 'All Hands Against His Own'"
   ]
  },
  {
   "cell_type": "code",
   "execution_count": 60,
   "metadata": {},
   "outputs": [],
   "source": [
    "user_songs_table_drop = \"DROP TABLE IF EXISTS user_songs\"\n",
    "\n",
    "user_songs_table_create = \"\"\"\n",
    "CREATE TABLE IF NOT EXISTS user_songs(\n",
    "    song_title VARCHAR,\n",
    "    first_name VARCHAR,\n",
    "    last_name VARCHAR,\n",
    "    PRIMARY KEY (song_title, first_name, last_name)\n",
    ");\n",
    "\"\"\"\n",
    "\n",
    "user_songs_insert = \"\"\"\n",
    "INSERT INTO user_songs (song_title, first_name, last_name)\n",
    "    VALUES (%s, %s, %s)\n",
    "    IF NOT EXISTS\n",
    "\"\"\"\n",
    "\n",
    "user_songs_select = \"\"\"\n",
    "SELECT song_title, first_name, last_name\n",
    "FROM user_songs\n",
    "WHERE song_title = 'All Hands Against His Own'\n",
    "\"\"\""
   ]
  },
  {
   "cell_type": "code",
   "execution_count": 61,
   "metadata": {},
   "outputs": [
    {
     "data": {
      "text/plain": [
       "<cassandra.cluster.ResultSet at 0x1c37eb91cf8>"
      ]
     },
     "execution_count": 61,
     "metadata": {},
     "output_type": "execute_result"
    }
   ],
   "source": [
    "# Drop and Create Table\n",
    "session.execute(user_songs_table_drop)\n",
    "session.execute(user_songs_table_create)"
   ]
  },
  {
   "cell_type": "code",
   "execution_count": 62,
   "metadata": {},
   "outputs": [
    {
     "data": {
      "text/plain": [
       "'All rows processed.'"
      ]
     },
     "metadata": {},
     "output_type": "display_data"
    }
   ],
   "source": [
    "# Insert Data into Table\n",
    "insert_data_into_table(user_songs_insert, ['song', 'firstName', 'lastName'])"
   ]
  },
  {
   "cell_type": "code",
   "execution_count": 63,
   "metadata": {},
   "outputs": [
    {
     "name": "stdout",
     "output_type": "stream",
     "text": [
      "All Hands Against His Own\tJacqueline\t     Lynch\n",
      "All Hands Against His Own\t      Sara\t   Johnson\n",
      "All Hands Against His Own\t     Tegan\t    Levine\n"
     ]
    }
   ],
   "source": [
    "# Query table to answer question\n",
    "rows = session.execute(user_songs_select)\n",
    "for row in rows:\n",
    "    print(\"%20s\\t%10s\\t%10s\" %(row.song_title, row.first_name, row.last_name))"
   ]
  },
  {
   "cell_type": "markdown",
   "metadata": {},
   "source": [
    "### Drop the tables to clean up"
   ]
  },
  {
   "cell_type": "code",
   "execution_count": 64,
   "metadata": {},
   "outputs": [],
   "source": [
    "drop_statements = [song_sessions_table_drop, user_sessions_table_drop, user_songs_table_drop]\n",
    "for drop in drop_statements:\n",
    "    session.execute(drop)"
   ]
  },
  {
   "cell_type": "markdown",
   "metadata": {},
   "source": [
    "### Close the session and cluster connection"
   ]
  },
  {
   "cell_type": "code",
   "execution_count": 65,
   "metadata": {},
   "outputs": [],
   "source": [
    "session.shutdown()\n",
    "cluster.shutdown()"
   ]
  }
 ],
 "metadata": {
  "kernelspec": {
   "display_name": "Python 3",
   "language": "python",
   "name": "python3"
  },
  "language_info": {
   "codemirror_mode": {
    "name": "ipython",
    "version": 3
   },
   "file_extension": ".py",
   "mimetype": "text/x-python",
   "name": "python",
   "nbconvert_exporter": "python",
   "pygments_lexer": "ipython3",
   "version": "3.7.1"
  }
 },
 "nbformat": 4,
 "nbformat_minor": 2
}
